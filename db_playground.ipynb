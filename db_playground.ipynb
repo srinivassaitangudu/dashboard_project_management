{
 "cells": [
  {
   "cell_type": "code",
   "execution_count": 5,
   "id": "4a81d3ef",
   "metadata": {},
   "outputs": [],
   "source": [
    "import psycopg2, psycopg2.extras\n",
    "import os\n",
    "from datetime import datetime, timezone\n",
    "\n",
    "\n",
    "def get_db_conn():\n",
    "    \n",
    "    conn = psycopg2.connect(\n",
    "        # dbname=os.getenv(\"DB_NAME\"),\n",
    "        dbname=\"hughesservicedelivery\",\n",
    "        user=os.getenv(\"DB_USERNAME\"),\n",
    "        password=os.getenv(\"DB_PASSWORD\"),\n",
    "        host=os.getenv(\"DB_HOST\"),\n",
    "        port=os.getenv('DB_PORT')\n",
    "    )\n",
    "    return conn"
   ]
  },
  {
   "cell_type": "code",
   "execution_count": 2,
   "id": "aca36688",
   "metadata": {},
   "outputs": [
    {
     "name": "stdout",
     "output_type": "stream",
     "text": [
      "[['proj000001', 'task000008', 'QTO Team identified', 'task000004'], ['proj000001', 'task000004', 'Salesforce Opportunity created by Sales', 'task000001'], ['proj000001', 'task000003', 'Bid/No Bid Decision', 'task000002'], ['proj000001', 'task000002', 'Salesforce Opportunity created by Sales', 'task000001']]\n"
     ]
    }
   ],
   "source": [
    "db= get_db_conn()\n",
    "curs =db.cursor(cursor_factory=psycopg2.extras.DictCursor)\n",
    "\n",
    "curs.execute(\n",
    "    \"\"\"\n",
    "    SELECT pt.projectid, pt.taskid, tm.taskname, dtm.depdendenttaskid AS DependentTask FROM projecttaskmaster pt\n",
    "    \n",
    "    \n",
    "    RIGHT JOIN dependenttaskmaster dtm ON (pt.taskid = dtm.taskid AND pt.projectid=dtm.projectid)\n",
    "    RIGHT JOIN taskmaster tm ON tm.taskid = dtm.depdendenttaskid\n",
    "    \n",
    "    WHERE  pt.projectid ='proj000001'\n",
    "    ; \n",
    "\"\"\")\n",
    "dependent_tasks =curs.fetchall()\n",
    "\n",
    "print(dependent_tasks)"
   ]
  },
  {
   "cell_type": "code",
   "execution_count": 3,
   "id": "42a1075b",
   "metadata": {},
   "outputs": [
    {
     "name": "stdout",
     "output_type": "stream",
     "text": [
      "[['task000040', 'Service Management Wireless', 'func002', Decimal('2')]]\n"
     ]
    }
   ],
   "source": [
    "db= get_db_conn()\n",
    "curs =db.cursor(cursor_factory=psycopg2.extras.DictCursor)\n",
    "\n",
    "curs.execute(\n",
    "    \"\"\"\n",
    "    SELECT tm.* FROM  taskmaster tm\n",
    "\n",
    "    WHERE tm.taskid NOT IN  (SELECT ptm.taskid FROM projecttaskmaster ptm WHERE ptm.projectid ='proj000001') ;\n",
    "    ; \n",
    "\"\"\")\n",
    "dependent_tasks =curs.fetchall()\n",
    "\n",
    "print(dependent_tasks)"
   ]
  },
  {
   "cell_type": "code",
   "execution_count": 6,
   "id": "91183017",
   "metadata": {},
   "outputs": [
    {
     "data": {
      "text/plain": [
       "datetime.date(2024, 7, 23)"
      ]
     },
     "execution_count": 6,
     "metadata": {},
     "output_type": "execute_result"
    }
   ],
   "source": [
    "datetime.now(timezone.utc).date()"
   ]
  },
  {
   "cell_type": "code",
   "execution_count": 8,
   "id": "cf1d055a",
   "metadata": {},
   "outputs": [
    {
     "data": {
      "text/plain": [
       "datetime.datetime(2024, 7, 23, 23, 37, 40, 37788, tzinfo=datetime.timezone.utc)"
      ]
     },
     "execution_count": 8,
     "metadata": {},
     "output_type": "execute_result"
    }
   ],
   "source": [
    "datetime.now(timezone.utc)\n"
   ]
  },
  {
   "cell_type": "code",
   "execution_count": null,
   "id": "bf050db8",
   "metadata": {},
   "outputs": [],
   "source": []
  }
 ],
 "metadata": {
  "kernelspec": {
   "display_name": "Python 3 (ipykernel)",
   "language": "python",
   "name": "python3"
  },
  "language_info": {
   "codemirror_mode": {
    "name": "ipython",
    "version": 3
   },
   "file_extension": ".py",
   "mimetype": "text/x-python",
   "name": "python",
   "nbconvert_exporter": "python",
   "pygments_lexer": "ipython3",
   "version": "3.10.12"
  }
 },
 "nbformat": 4,
 "nbformat_minor": 5
}
