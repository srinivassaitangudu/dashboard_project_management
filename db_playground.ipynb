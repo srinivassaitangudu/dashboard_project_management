{
 "cells": [
  {
   "cell_type": "code",
   "execution_count": 17,
   "id": "4a81d3ef",
   "metadata": {},
   "outputs": [],
   "source": [
    "import psycopg2, psycopg2.extras\n",
    "import os\n",
    "\n",
    "\n",
    "def get_db_conn():\n",
    "    \n",
    "    conn = psycopg2.connect(\n",
    "        # dbname=os.getenv(\"DB_NAME\"),\n",
    "        dbname=\"hughesservicedelivery\",\n",
    "        user=os.getenv(\"DB_USERNAME\"),\n",
    "        password=os.getenv(\"DB_PASSWORD\"),\n",
    "        host=os.getenv(\"DB_HOST\"),\n",
    "        port=os.getenv('DB_PORT')\n",
    "    )\n",
    "    return conn"
   ]
  },
  {
   "cell_type": "code",
   "execution_count": 18,
   "id": "aca36688",
   "metadata": {},
   "outputs": [
    {
     "name": "stdout",
     "output_type": "stream",
     "text": [
      "[['proj000001', 'task000001', 'Bid/No Bid Decision', 'task000002'], ['proj000001', 'task000006', 'Sales creates QTO overview PPT', 'task000007'], ['proj000001', 'task000005', 'Financial Analysis File Updates (SO, SE, Finance)', 'task000006'], ['proj000001', 'task000004', 'Financial Analysis File Creation', 'task000005'], ['proj000001', 'task000003', 'QTO type identified (ROM, Budgetary, Formal)', 'task000003'], ['proj000001', 'task000002', 'QTO type identified (ROM, Budgetary, Formal)', 'task000003']]\n"
     ]
    }
   ],
   "source": [
    "db= get_db_conn()\n",
    "curs =db.cursor(cursor_factory=psycopg2.extras.DictCursor)\n",
    "\n",
    "curs.execute(\n",
    "    \"\"\"\n",
    "    SELECT pt.projectid, pt.taskid, tm.taskname, dtm.depdendenttaskid AS DependentTask FROM projecttaskmaster pt\n",
    "    \n",
    "    \n",
    "    RIGHT JOIN dependenttaskmaster dtm ON (pt.taskid = dtm.taskid AND pt.projectid=dtm.projectid)\n",
    "    RIGHT JOIN taskmaster tm ON tm.taskid = dtm.depdendenttaskid\n",
    "    \n",
    "    WHERE  pt.projectid ='proj000001'\n",
    "    ; \n",
    "\"\"\")\n",
    "dependent_tasks =curs.fetchall()\n",
    "\n",
    "print(dependent_tasks)"
   ]
  },
  {
   "cell_type": "code",
   "execution_count": null,
   "id": "42a1075b",
   "metadata": {},
   "outputs": [],
   "source": []
  }
 ],
 "metadata": {
  "kernelspec": {
   "display_name": "Python 3 (ipykernel)",
   "language": "python",
   "name": "python3"
  },
  "language_info": {
   "codemirror_mode": {
    "name": "ipython",
    "version": 3
   },
   "file_extension": ".py",
   "mimetype": "text/x-python",
   "name": "python",
   "nbconvert_exporter": "python",
   "pygments_lexer": "ipython3",
   "version": "3.10.12"
  }
 },
 "nbformat": 4,
 "nbformat_minor": 5
}
